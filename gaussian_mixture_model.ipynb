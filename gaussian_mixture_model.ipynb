{
 "cells": [
  {
   "cell_type": "code",
   "execution_count": null,
   "metadata": {},
   "outputs": [],
   "source": [
    "import numpy as np\n",
    "import pandas as pd\n",
    "import matplotlib.pyplot as plt\n",
    "import seaborn as sns"
   ]
  },
  {
   "cell_type": "code",
   "execution_count": null,
   "metadata": {},
   "outputs": [],
   "source": [
    "%matplotlib inline\n",
    "sns.set_context('paper')\n",
    "sns.set_style('darkgrid')"
   ]
  },
  {
   "cell_type": "code",
   "execution_count": null,
   "metadata": {},
   "outputs": [],
   "source": [
    "import pymc3 as pm, theano.tensor as tt"
   ]
  },
  {
   "cell_type": "code",
   "execution_count": null,
   "metadata": {},
   "outputs": [],
   "source": [
    "# simulate data from a known mixture distribution\n",
    "np.random.seed(12345) # set random seed for reproducibility"
   ]
  },
  {
   "cell_type": "code",
   "execution_count": null,
   "metadata": {},
   "outputs": [],
   "source": [
    "spread = 5\n",
    "centers = np.array([-spread, 0, spread])\n",
    "centers"
   ]
  },
  {
   "cell_type": "code",
   "execution_count": null,
   "metadata": {},
   "outputs": [],
   "source": [
    "# simulate data from mixture distribution\n",
    "k = 3\n",
    "ndata = 500\n",
    "v = np.random.randint(0, k, ndata)"
   ]
  },
  {
   "cell_type": "code",
   "execution_count": null,
   "metadata": {},
   "outputs": [],
   "source": [
    "v[1:10]"
   ]
  },
  {
   "cell_type": "code",
   "execution_count": null,
   "metadata": {},
   "outputs": [],
   "source": [
    "np.random.randn(ndata)[1:10]"
   ]
  },
  {
   "cell_type": "code",
   "execution_count": null,
   "metadata": {},
   "outputs": [],
   "source": [
    "centers[v][1:10]"
   ]
  },
  {
   "cell_type": "code",
   "execution_count": null,
   "metadata": {},
   "outputs": [],
   "source": [
    "data = centers[v] + np.random.randn(ndata)\n",
    "\n",
    "plt.hist(data);"
   ]
  },
  {
   "cell_type": "code",
   "execution_count": null,
   "metadata": {},
   "outputs": [],
   "source": [
    "# setup model\n",
    "model = pm.Model()\n",
    "with model:\n",
    "    # cluster sizes\n",
    "    p = pm.Dirichlet('p', a=np.array([1., 1., 1.]), shape=k)\n",
    "\n",
    "    # ensure all clusters have some points\n",
    "    p_min_potential = pm.Potential('p_min_potential', tt.switch(tt.min(p) < .1, -np.inf, 0))\n",
    "\n",
    "    # cluster centers\n",
    "    means = pm.Normal('means', mu=[0, 0, 0], sigma=15, shape=k)\n",
    "\n",
    "    # break symmetry\n",
    "    order_means_potential = pm.Potential('order_means_potential',\n",
    "                                         tt.switch(means[1]-means[0] < 0, -np.inf, 0)\n",
    "                                         + tt.switch(means[2]-means[1] < 0, -np.inf, 0))\n",
    "\n",
    "    # measurement error\n",
    "    sd = pm.Uniform('sd', lower=0, upper=20)\n",
    "\n",
    "    # latent cluster of each observation\n",
    "    category = pm.Categorical('category',\n",
    "                              p=p,\n",
    "                              shape=ndata)\n",
    "\n",
    "    # likelihood for each observed value\n",
    "    points = pm.Normal('obs',\n",
    "                       mu=means[category],\n",
    "                       sigma=sd,\n",
    "                       observed=data)"
   ]
  },
  {
   "cell_type": "code",
   "execution_count": null,
   "metadata": {},
   "outputs": [],
   "source": [
    "# fit model\n",
    "with model:\n",
    "    step1 = pm.Metropolis(vars=[p, sd, means])\n",
    "    step2 = pm.ElemwiseCategorical(vars=[category], values=[0, 1, 2])\n",
    "    tr = pm.sample(10000, step=[step1, step2], tune=5000)"
   ]
  },
  {
   "cell_type": "code",
   "execution_count": null,
   "metadata": {},
   "outputs": [],
   "source": [
    "pm.traceplot(tr, var_names=['p', 'sd', 'means'])"
   ]
  },
  {
   "cell_type": "code",
   "execution_count": null,
   "metadata": {},
   "outputs": [],
   "source": []
  },
  {
   "cell_type": "code",
   "execution_count": null,
   "metadata": {},
   "outputs": [],
   "source": []
  },
  {
   "cell_type": "code",
   "execution_count": null,
   "metadata": {},
   "outputs": [],
   "source": []
  },
  {
   "cell_type": "code",
   "execution_count": null,
   "metadata": {},
   "outputs": [],
   "source": []
  },
  {
   "cell_type": "code",
   "execution_count": null,
   "metadata": {},
   "outputs": [],
   "source": []
  }
 ],
 "metadata": {
  "kernelspec": {
   "display_name": "Python 3",
   "language": "python",
   "name": "python3"
  },
  "language_info": {
   "codemirror_mode": {
    "name": "ipython",
    "version": 3
   },
   "file_extension": ".py",
   "mimetype": "text/x-python",
   "name": "python",
   "nbconvert_exporter": "python",
   "pygments_lexer": "ipython3",
   "version": "3.5.0"
  }
 },
 "nbformat": 4,
 "nbformat_minor": 4
}
